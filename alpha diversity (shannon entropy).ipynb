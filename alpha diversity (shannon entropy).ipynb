{
 "cells": [
  {
   "cell_type": "markdown",
   "id": "17a02364",
   "metadata": {},
   "source": [
    "# Alpha Diversity Calculation"
   ]
  },
  {
   "cell_type": "code",
   "execution_count": 1,
   "id": "05029e54",
   "metadata": {},
   "outputs": [],
   "source": [
    "#install the necessary packages\n",
    "import numpy as np\n",
    "import pandas as pd\n",
    "from scipy.stats import entropy"
   ]
  },
  {
   "cell_type": "code",
   "execution_count": 2,
   "id": "5904a7e0",
   "metadata": {},
   "outputs": [],
   "source": [
    "dataframe = pd.read_csv('alpha_diversity_input.csv')  #read in the datafile for alpha diversity calculations. samples are rows, metabolite features are columns"
   ]
  },
  {
   "cell_type": "code",
   "execution_count": 3,
   "id": "a56a5e7b",
   "metadata": {},
   "outputs": [],
   "source": [
    "#covert every column from float to object\n",
    "for col in dataframe.columns:\n",
    "    if dataframe[col].dtype == 'float64':\n",
    "        dataframe[col] = dataframe[col].astype(object)\n",
    "    if dataframe[col].dtype == 'int64':\n",
    "        dataframe[col] = dataframe[col].astype(object)"
   ]
  },
  {
   "cell_type": "code",
   "execution_count": 4,
   "id": "8ca0da86",
   "metadata": {},
   "outputs": [
    {
     "name": "stdout",
     "output_type": "stream",
     "text": [
      "Unnamed: 0           object\n",
      "263.237_16.3_1047    object\n",
      "496.34_12.7_543      object\n",
      "263.237_16.2_2535    object\n",
      "790.379_10.2_2433    object\n",
      "                      ...  \n",
      "305.248_16.1_3436    object\n",
      "682.597_21.2_3740    object\n",
      "1148.934_6.8_5472    object\n",
      "632.432_14.3_4854    object\n",
      "810.601_19.8_1387    object\n",
      "Length: 3383, dtype: object\n"
     ]
    }
   ],
   "source": [
    "print(dataframe.dtypes)"
   ]
  },
  {
   "cell_type": "code",
   "execution_count": 5,
   "id": "d383ed6d",
   "metadata": {},
   "outputs": [],
   "source": [
    "dataframe_drop = dataframe.drop(columns=['Unnamed: 0'])"
   ]
  },
  {
   "cell_type": "code",
   "execution_count": 6,
   "id": "ca6436d7",
   "metadata": {},
   "outputs": [],
   "source": [
    "#define a function for shannon diversity\n",
    "#shannon\n",
    "def shannon_diversity(counts):\n",
    "    \"\"\"Shannon entropy.\"\"\"      #Shannon index cares more about species richness\n",
    "    # Ensure counts are in numeric format (np.array)\n",
    "    counts = np.array(counts, dtype=float)\n",
    "    return entropy(counts, base=2) #with a base=2 this represents info in binary terms and is used in ecological studies\n",
    "\n",
    "    \n"
   ]
  },
  {
   "attachments": {
    "image.png": {
     "image/png": "[encoded data removed]"
    }
   },
   "cell_type": "markdown",
   "id": "ae83b33f",
   "metadata": {},
   "source": [
    "# ![image.png](attachment:image.png)"
   ]
  },
  {
   "cell_type": "code",
   "execution_count": 8,
   "id": "094889ee",
   "metadata": {},
   "outputs": [],
   "source": [
    "#calculate alpha diversity\n",
    "\n",
    "alpha_results = [] #creating a dictionary to store\n",
    "for idx, row in dataframe_drop.iterrows():\n",
    "    shannon = shannon_diversity(row)\n",
    "    alpha_results.append([shannon])"
   ]
  },
  {
   "cell_type": "code",
   "execution_count": 10,
   "id": "cca8be9e",
   "metadata": {},
   "outputs": [
    {
     "name": "stdout",
     "output_type": "stream",
     "text": [
      "     shannon\n",
      "0   6.414398\n",
      "1   8.312278\n",
      "2   8.120159\n",
      "3   7.452064\n",
      "4   7.065793\n",
      "5   7.090445\n",
      "6   7.779784\n",
      "7   8.176036\n",
      "8   7.672488\n",
      "9   8.063859\n",
      "10  8.005473\n",
      "11  8.352364\n",
      "12  7.868968\n",
      "13  8.322081\n",
      "14  8.030831\n"
     ]
    }
   ],
   "source": [
    "#results to dataframe\n",
    "\n",
    "alphadv_results_df = pd.DataFrame(alpha_results, columns=['shannon'])\n",
    "\n",
    "print(alphadv_results_df)"
   ]
  },
  {
   "cell_type": "code",
   "execution_count": 17,
   "id": "28d8da12",
   "metadata": {},
   "outputs": [],
   "source": [
    "alphadv_results_df.to_csv('alphadv_results.csv') #convert dataframe to .csv file. writes to your working directory"
   ]
  },
  {
   "cell_type": "code",
   "execution_count": null,
   "id": "cec15a8a",
   "metadata": {},
   "outputs": [],
   "source": [
    "#solutions to errors for alpha diversity\n",
    "\n",
    "#type error: can't multipy sequence by non-int of type 'float'--- solution https://www.freecodecamp.org/news/typeerror-cant-multiply-sequence-by-non-int-of-type-float-solved-python-error/\n",
    "\n",
    "#convert floats to objects\n",
    "#floats are numbers with decimal points\n",
    "#https://www.geeksforgeeks.org/how-to-convert-floats-to-strings-in-pandas-dataframe/\n",
    "    "
   ]
  }
 ],
 "metadata": {
  "kernelspec": {
   "display_name": "Python 3 (ipykernel)",
   "language": "python",
   "name": "python3"
  },
  "language_info": {
   "codemirror_mode": {
    "name": "ipython",
    "version": 3
   },
   "file_extension": ".py",
   "mimetype": "text/x-python",
   "name": "python",
   "nbconvert_exporter": "python",
   "pygments_lexer": "ipython3",
   "version": "3.9.18"
  }
 },
 "nbformat": 4,
 "nbformat_minor": 5
}
