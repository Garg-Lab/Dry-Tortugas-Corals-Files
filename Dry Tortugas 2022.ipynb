{
 "cells": [
  {
   "cell_type": "code",
   "execution_count": 1,
   "metadata": {},
   "outputs": [],
   "source": [
    "import pandas as pd\n",
    "import numpy as np"
   ]
  },
  {
   "cell_type": "code",
   "execution_count": 2,
   "metadata": {},
   "outputs": [],
   "source": [
    "UnalteredFrame = pd.read_excel('Input.xlsx')"
   ]
  },
  {
   "cell_type": "markdown",
   "metadata": {},
   "source": [
    "This takes the mean of the three columns in the unaltered Frame"
   ]
  },
  {
   "cell_type": "code",
   "execution_count": 3,
   "metadata": {},
   "outputs": [],
   "source": [
    "ControlsSOD = UnalteredFrame[['SOD_Blank1', 'SOD_Blank2']].apply(np.mean,axis=1)\n",
    "ControlsResuspension = UnalteredFrame[['ResuspensionSolvent1', 'ResuspensionSolvent2']].apply(np.mean,axis=1)\n",
    "ControlsMeOH = UnalteredFrame[['MeOH_control_1', 'MeOH_control_2']].apply(np.mean,axis=1)\n",
    "Controls221 = UnalteredFrame[['2_2_1_EA_MeOH_water_control_1', '2_2_1_EA_MeOH_water_control_2']].apply(np.mean,axis=1)\n",
    "ControlsFSW = UnalteredFrame[['105_11_FSW_control', 'FSW_blank_2']].apply(np.mean,axis=1)"
   ]
  },
  {
   "cell_type": "code",
   "execution_count": 4,
   "metadata": {},
   "outputs": [],
   "source": [
    "BlockSamples1a = UnalteredFrame[['MMEA14_TV103__WC', 'MMEA2_TV102__WC', 'MMEA202_TV100_WC', 'MMEA24_TV99__WC']].apply(np.mean,axis=1)\n",
    "BlockSamples1b = UnalteredFrame[['MCAV1_TV107__WC', 'MCAV2_TV108__WC', 'MCAV3_TV109__WC', 'MCAV6_TV110__WC']].apply(np.mean,axis=1)\n",
    "BlockSamples1c = UnalteredFrame[['CNAT1_TV105__WC','CNAT12_TV104__WC', 'CNAT9_TV106__WC']].apply(np.mean,axis=1)\n",
    "BlockSamples1d = UnalteredFrame[['OFAV12_TV113__WC', 'OFAV2_TV111__WC', 'OFAV3_TV112__WC', 'OFAV7_TV114__WC']].apply(np.mean,axis=1)\n",
    "BlockSamples2a = UnalteredFrame[['105_1_zoo', '105_2_zoo', '105_3_zoo']].apply(np.mean,axis=1)\n",
    "BlockSamples2b = UnalteredFrame[['105_4_zoo', '105_5_zoo']].apply(np.mean,axis=1)\n",
    "BlockSamples2c = UnalteredFrame[['105_6_zoo', '105_7_zoo']].apply(np.mean,axis=1)\n",
    "BlockSamples3 = UnalteredFrame[['105_10_coral_larvae', '105_8_coral_spat', '105_9_coral_spat']].apply(np.mean,axis=1)"
   ]
  },
  {
   "cell_type": "markdown",
   "metadata": {},
   "source": [
    "This gives the names of the columns"
   ]
  },
  {
   "cell_type": "code",
   "execution_count": 5,
   "metadata": {},
   "outputs": [
    {
     "data": {
      "text/plain": [
       "Index(['row ID', 'row m/z', 'row retention time', 'SOD_Blank2',\n",
       "       '2_2_1_EA_MeOH_water_control_1', 'ResuspensionSolvent1',\n",
       "       'ResuspensionSolvent2', 'CNAT12_TV104__WC', 'MeOH_control_1',\n",
       "       'SOD_Blank1', 'MCAV1_TV107__WC', '105_6_zoo', 'OFAV2_TV111__WC',\n",
       "       'MCAV6_TV110__WC', 'MeOH_control_2', '105_3_zoo', '105_2_zoo',\n",
       "       'MMEA2_TV102__WC', '2_2_1_EA_MeOH_water_control_2', 'MCAV2_TV108__WC',\n",
       "       '105_1_zoo', '105_10_coral_larvae', '105_8_coral_spat', '105_7_zoo',\n",
       "       'FSW_blank_2', 'MMEA202_TV100_WC', '105_4_zoo', 'CNAT1_TV105__WC',\n",
       "       '105_11_FSW_control', '105_5_zoo', '105_9_coral_spat',\n",
       "       'OFAV12_TV113__WC', 'OFAV7_TV114__WC', 'CNAT9_TV106__WC',\n",
       "       'OFAV3_TV112__WC', 'MCAV3_TV109__WC', 'MMEA24_TV99__WC',\n",
       "       'MMEA14_TV103__WC'],\n",
       "      dtype='object')"
      ]
     },
     "execution_count": 5,
     "metadata": {},
     "output_type": "execute_result"
    }
   ],
   "source": [
    "UnalteredFrame.columns"
   ]
  },
  {
   "cell_type": "markdown",
   "metadata": {},
   "source": [
    "This sets up the Filter Based on the LB Blank Columns"
   ]
  },
  {
   "cell_type": "code",
   "execution_count": 6,
   "metadata": {},
   "outputs": [],
   "source": [
    "TobeKeptBlockA1 = BlockSamples1a * .25 >= ControlsResuspension"
   ]
  },
  {
   "cell_type": "code",
   "execution_count": 7,
   "metadata": {},
   "outputs": [],
   "source": [
    "TobeKeptBlockA2 = BlockSamples1b * .25 >= ControlsResuspension"
   ]
  },
  {
   "cell_type": "code",
   "execution_count": 8,
   "metadata": {},
   "outputs": [],
   "source": [
    "TobeKeptBlockA3 = BlockSamples1c * .25 >= ControlsResuspension"
   ]
  },
  {
   "cell_type": "code",
   "execution_count": 9,
   "metadata": {},
   "outputs": [],
   "source": [
    "TobeKeptBlockA4 = BlockSamples1d * .25 >= ControlsResuspension"
   ]
  },
  {
   "cell_type": "code",
   "execution_count": 10,
   "metadata": {},
   "outputs": [],
   "source": [
    "TobeKeptBlockB1 = BlockSamples2a * .25 >= ControlsResuspension"
   ]
  },
  {
   "cell_type": "code",
   "execution_count": 11,
   "metadata": {},
   "outputs": [],
   "source": [
    "TobeKeptBlockB2 = BlockSamples2b * .25 >= ControlsResuspension"
   ]
  },
  {
   "cell_type": "code",
   "execution_count": 12,
   "metadata": {},
   "outputs": [],
   "source": [
    "TobeKeptBlockB3 = BlockSamples2c * .25 >= ControlsResuspension"
   ]
  },
  {
   "cell_type": "code",
   "execution_count": 13,
   "metadata": {},
   "outputs": [],
   "source": [
    "TobeKeptBlockC = BlockSamples3 * .25 >= ControlsResuspension"
   ]
  },
  {
   "cell_type": "code",
   "execution_count": 14,
   "metadata": {},
   "outputs": [],
   "source": [
    "ControlsResuspensionSummary = TobeKeptBlockA1 & TobeKeptBlockA2 & TobeKeptBlockA3 & TobeKeptBlockA4 & TobeKeptBlockB1 & TobeKeptBlockB2 & TobeKeptBlockB3 & TobeKeptBlockC"
   ]
  },
  {
   "cell_type": "markdown",
   "metadata": {},
   "source": [
    "This sets up the Filter based on the Control Blanks Columns"
   ]
  },
  {
   "cell_type": "code",
   "execution_count": 15,
   "metadata": {},
   "outputs": [],
   "source": [
    "TobeKeptBlockD1 = BlockSamples1a * .25 >= ControlsSOD"
   ]
  },
  {
   "cell_type": "code",
   "execution_count": 16,
   "metadata": {},
   "outputs": [],
   "source": [
    "TobeKeptBlockD2 = BlockSamples1b * .25 >= ControlsSOD"
   ]
  },
  {
   "cell_type": "code",
   "execution_count": 17,
   "metadata": {},
   "outputs": [],
   "source": [
    "TobeKeptBlockD3 = BlockSamples1c * .25 >= ControlsSOD"
   ]
  },
  {
   "cell_type": "code",
   "execution_count": 18,
   "metadata": {},
   "outputs": [],
   "source": [
    "TobeKeptBlockD4 = BlockSamples1d * .25 >= ControlsSOD"
   ]
  },
  {
   "cell_type": "code",
   "execution_count": 19,
   "metadata": {},
   "outputs": [],
   "source": [
    "TobeKeptBlockE1 = BlockSamples2a * .25 >= ControlsSOD"
   ]
  },
  {
   "cell_type": "code",
   "execution_count": 20,
   "metadata": {},
   "outputs": [],
   "source": [
    "TobeKeptBlockE2 = BlockSamples2b * .25 >= ControlsSOD"
   ]
  },
  {
   "cell_type": "code",
   "execution_count": 21,
   "metadata": {},
   "outputs": [],
   "source": [
    "TobeKeptBlockE3 = BlockSamples2c * .25 >= ControlsSOD"
   ]
  },
  {
   "cell_type": "code",
   "execution_count": 22,
   "metadata": {},
   "outputs": [],
   "source": [
    "TobeKeptBlockF = BlockSamples3 * .25 >= ControlsSOD"
   ]
  },
  {
   "cell_type": "code",
   "execution_count": 23,
   "metadata": {},
   "outputs": [],
   "source": [
    "ControlsSODSummary = TobeKeptBlockE1 & TobeKeptBlockE2 & TobeKeptBlockE3 & TobeKeptBlockF & TobeKeptBlockD1 & TobeKeptBlockD2 & TobeKeptBlockD3 & TobeKeptBlockD4"
   ]
  },
  {
   "cell_type": "code",
   "execution_count": 24,
   "metadata": {},
   "outputs": [],
   "source": [
    "TobeKeptBlockG1 = BlockSamples1a * .25 >= ControlsMeOH"
   ]
  },
  {
   "cell_type": "code",
   "execution_count": 25,
   "metadata": {},
   "outputs": [],
   "source": [
    "TobeKeptBlockG2 = BlockSamples1b * .25 >= ControlsMeOH"
   ]
  },
  {
   "cell_type": "code",
   "execution_count": 26,
   "metadata": {},
   "outputs": [],
   "source": [
    "TobeKeptBlockG3 = BlockSamples1c * .25 >= ControlsMeOH"
   ]
  },
  {
   "cell_type": "code",
   "execution_count": 27,
   "metadata": {},
   "outputs": [],
   "source": [
    "TobeKeptBlockG4 = BlockSamples1d * .25 >= ControlsMeOH"
   ]
  },
  {
   "cell_type": "code",
   "execution_count": 28,
   "metadata": {},
   "outputs": [],
   "source": [
    "TobeKeptBlockH1 = BlockSamples2a * .25 >= ControlsMeOH"
   ]
  },
  {
   "cell_type": "code",
   "execution_count": 29,
   "metadata": {},
   "outputs": [],
   "source": [
    "TobeKeptBlockH2 = BlockSamples2b * .25 >= ControlsMeOH"
   ]
  },
  {
   "cell_type": "code",
   "execution_count": 30,
   "metadata": {},
   "outputs": [],
   "source": [
    "TobeKeptBlockH3 = BlockSamples2c * .25 >= ControlsMeOH"
   ]
  },
  {
   "cell_type": "code",
   "execution_count": 31,
   "metadata": {},
   "outputs": [],
   "source": [
    "TobeKeptBlockI = BlockSamples3 * .25 >= ControlsMeOH"
   ]
  },
  {
   "cell_type": "code",
   "execution_count": 32,
   "metadata": {},
   "outputs": [],
   "source": [
    "ControlsMeOHSummary = TobeKeptBlockG1 & TobeKeptBlockG2 & TobeKeptBlockG3 & TobeKeptBlockG4 & TobeKeptBlockH1 & TobeKeptBlockH2 & TobeKeptBlockH3 & TobeKeptBlockI"
   ]
  },
  {
   "cell_type": "code",
   "execution_count": 33,
   "metadata": {},
   "outputs": [],
   "source": [
    "TobeKeptBlockJ1 = BlockSamples1a * .25 >= Controls221"
   ]
  },
  {
   "cell_type": "code",
   "execution_count": 34,
   "metadata": {},
   "outputs": [],
   "source": [
    "TobeKeptBlockJ2 = BlockSamples1b * .25 >= Controls221"
   ]
  },
  {
   "cell_type": "code",
   "execution_count": 35,
   "metadata": {},
   "outputs": [],
   "source": [
    "TobeKeptBlockJ3 = BlockSamples1c * .25 >= Controls221"
   ]
  },
  {
   "cell_type": "code",
   "execution_count": 36,
   "metadata": {},
   "outputs": [],
   "source": [
    "TobeKeptBlockJ4 = BlockSamples1d * .25 >= Controls221"
   ]
  },
  {
   "cell_type": "code",
   "execution_count": 37,
   "metadata": {},
   "outputs": [],
   "source": [
    "TobeKeptBlockK1 = BlockSamples2a * .25 >= Controls221"
   ]
  },
  {
   "cell_type": "code",
   "execution_count": 38,
   "metadata": {},
   "outputs": [],
   "source": [
    "TobeKeptBlockK2 = BlockSamples2b * .25 >= Controls221"
   ]
  },
  {
   "cell_type": "code",
   "execution_count": 39,
   "metadata": {},
   "outputs": [],
   "source": [
    "TobeKeptBlockK3 = BlockSamples2c * .25 >= Controls221"
   ]
  },
  {
   "cell_type": "code",
   "execution_count": 40,
   "metadata": {},
   "outputs": [],
   "source": [
    "TobeKeptBlockL = BlockSamples3 * .25 >= Controls221"
   ]
  },
  {
   "cell_type": "code",
   "execution_count": 41,
   "metadata": {},
   "outputs": [],
   "source": [
    "Controls221Summary = TobeKeptBlockJ1 & TobeKeptBlockJ2 & TobeKeptBlockJ3 & TobeKeptBlockJ4 & TobeKeptBlockK1 & TobeKeptBlockK2 & TobeKeptBlockK3 & TobeKeptBlockL"
   ]
  },
  {
   "cell_type": "code",
   "execution_count": 42,
   "metadata": {},
   "outputs": [],
   "source": [
    "TobeKeptBlockM1 = BlockSamples2a * .25 >= ControlsFSW"
   ]
  },
  {
   "cell_type": "code",
   "execution_count": 43,
   "metadata": {},
   "outputs": [],
   "source": [
    "TobeKeptBlockM2 = BlockSamples2b * .25 >= ControlsFSW"
   ]
  },
  {
   "cell_type": "code",
   "execution_count": 44,
   "metadata": {},
   "outputs": [],
   "source": [
    "TobeKeptBlockM3 = BlockSamples2c * .25 >= ControlsFSW"
   ]
  },
  {
   "cell_type": "code",
   "execution_count": 45,
   "metadata": {},
   "outputs": [],
   "source": [
    "ControlsFSWsumary = TobeKeptBlockM1 & TobeKeptBlockM2 & TobeKeptBlockM3"
   ]
  },
  {
   "cell_type": "markdown",
   "metadata": {},
   "source": [
    "Combine the Filters Together Into a single Filter"
   ]
  },
  {
   "cell_type": "code",
   "execution_count": 46,
   "metadata": {},
   "outputs": [],
   "source": [
    "RetainFilter = ControlsResuspensionSummary & ControlsSODSummary & ControlsMeOHSummary & Controls221Summary & ControlsFSWsumary"
   ]
  },
  {
   "cell_type": "markdown",
   "metadata": {},
   "source": [
    "We use the Regular Filter (Greater than 25%) The results are stored in altered Frame"
   ]
  },
  {
   "cell_type": "code",
   "execution_count": 47,
   "metadata": {},
   "outputs": [],
   "source": [
    "TrueFrame = UnalteredFrame"
   ]
  },
  {
   "cell_type": "code",
   "execution_count": 48,
   "metadata": {},
   "outputs": [],
   "source": [
    "TrueFrame['Retained'] = RetainFilter"
   ]
  },
  {
   "cell_type": "markdown",
   "metadata": {},
   "source": [
    "Altered Frame is saved as a csv with the name given"
   ]
  },
  {
   "cell_type": "code",
   "execution_count": 49,
   "metadata": {},
   "outputs": [],
   "source": [
    "TrueFrame.to_csv('DryTort2022check.csv')"
   ]
  },
  {
   "cell_type": "markdown",
   "metadata": {},
   "source": [
    "Keep Rows Marked True"
   ]
  },
  {
   "cell_type": "code",
   "execution_count": 50,
   "metadata": {},
   "outputs": [],
   "source": [
    "TrueFrame[RetainFilter].to_csv('DryTort2022filtered.csv')"
   ]
  },
  {
   "cell_type": "code",
   "execution_count": null,
   "metadata": {},
   "outputs": [],
   "source": []
  }
 ],
 "metadata": {
  "kernelspec": {
   "display_name": "Python 3",
   "language": "python",
   "name": "python3"
  },
  "language_info": {
   "codemirror_mode": {
    "name": "ipython",
    "version": 3
   },
   "file_extension": ".py",
   "mimetype": "text/x-python",
   "name": "python",
   "nbconvert_exporter": "python",
   "pygments_lexer": "ipython3",
   "version": "3.7.4"
  }
 },
 "nbformat": 4,
 "nbformat_minor": 2
}
